{
  "nbformat": 4,
  "nbformat_minor": 0,
  "metadata": {
    "colab": {
      "provenance": [],
      "authorship_tag": "ABX9TyPt8+/qUNO9P0I86FE58E5/",
      "include_colab_link": true
    },
    "kernelspec": {
      "name": "python3",
      "display_name": "Python 3"
    },
    "language_info": {
      "name": "python"
    }
  },
  "cells": [
    {
      "cell_type": "markdown",
      "metadata": {
        "id": "view-in-github",
        "colab_type": "text"
      },
      "source": [
        "<a href=\"https://colab.research.google.com/github/Carlospazini18/aluraChatbot/blob/main/chatbot-aula.ipynb\" target=\"_parent\"><img src=\"https://colab.research.google.com/assets/colab-badge.svg\" alt=\"Open In Colab\"/></a>"
      ]
    },
    {
      "cell_type": "markdown",
      "source": [
        "instalando a gemini ai"
      ],
      "metadata": {
        "id": "nDmkTTr2e7Dp"
      }
    },
    {
      "cell_type": "code",
      "source": [
        "#instalando a biblioteca do gemini ia\n",
        "!pip install -q -U google-generativeai"
      ],
      "metadata": {
        "id": "Jkp_OXbffBh3"
      },
      "execution_count": 6,
      "outputs": []
    },
    {
      "cell_type": "markdown",
      "source": [
        "configurando o padroes básicos"
      ],
      "metadata": {
        "id": "69-yYM8cnd0D"
      }
    },
    {
      "cell_type": "code",
      "source": [
        "# importando a biblioteca do google generative\n",
        "import google.generativeai as genai\n",
        "\n",
        "#usando a minha chave se API para acessar a api\n",
        "GOOGLE_API_KEY = 'XXXXXXXXXXXXXX'\n",
        "genai.configure(api_key=GOOGLE_API_KEY)\n",
        "\n",
        "#informando qual modelo de IA vou utilizar\n",
        "model = genai.GenerativeModel('gemini-pro')\n",
        "\n",
        "#fazendo uma requisição para o modelo generativo\n",
        "# response = model.generate_content('Estou fazendo a imersão da alura gemini ia, você é mu chat boot')\n",
        "\n",
        "\n",
        "# imprimindo a resposta da ia em formato d texto\n",
        "# print(response.text)"
      ],
      "metadata": {
        "id": "posnoIOTfoxV"
      },
      "execution_count": null,
      "outputs": []
    },
    {
      "cell_type": "markdown",
      "source": [
        "Fazendo uma pergunta para o chat bot"
      ],
      "metadata": {
        "id": "jL1x5dPunSPE"
      }
    },
    {
      "cell_type": "code",
      "source": [
        "pergunta = str(input('Olá como posso ajudar?'))\n",
        "\n",
        "resposta = model.generate_content(pergunta)\n",
        "\n",
        "\n",
        "print(f'Chat: {resposta.text}')"
      ],
      "metadata": {
        "id": "EqMNaInCgxeu"
      },
      "execution_count": null,
      "outputs": []
    },
    {
      "cell_type": "markdown",
      "source": [
        "configurando os parâmetros"
      ],
      "metadata": {
        "id": "NAX25tpXnjDe"
      }
    },
    {
      "cell_type": "code",
      "source": [
        "generate_config = {\n",
        "    'candidate_count': 1,\n",
        "    'temperature': 0.5\n",
        "}\n",
        "\n",
        "safety_settings = {\n",
        "    'HARASSMENT': 'BLOCK_NONE',\n",
        "    'HATE': 'BLOCK_NONE',\n",
        "    'SEXUAL': 'BLOCK_NONE',\n",
        "    'DANGEROUS': 'BLOCK_NONE'\n",
        "}\n",
        "\n",
        "model = genai.GenerativeModel(model_name='gemini-1.0-pro', generation_config=generate_config, safety_settings=safety_settings)"
      ],
      "metadata": {
        "id": "EfRK0mR2nqID"
      },
      "execution_count": 26,
      "outputs": []
    },
    {
      "cell_type": "markdown",
      "source": [
        "fazendo perguntas"
      ],
      "metadata": {
        "id": "KbqaYHLJpfzR"
      }
    },
    {
      "cell_type": "code",
      "source": [
        "from pickle import TRUE\n",
        "\n",
        "pergunta = str(input('Olá, me faça uma pergunta... '))\n",
        "response = model.generate_content(pergunta)\n",
        "\n",
        "while TRUE:\n",
        "\n",
        "  print(response.text)\n",
        "\n",
        "  pergunta = str(input('Posso ajudar em mais alguma coisa? '))\n",
        "\n",
        "  if pergunta == 'N':\n",
        "    break\n",
        "  else:\n",
        "    response = model.generate_content(pergunta)"
      ],
      "metadata": {
        "id": "zkcy-hMzpkFW"
      },
      "execution_count": null,
      "outputs": []
    },
    {
      "cell_type": "markdown",
      "source": [
        "iniciando o chat"
      ],
      "metadata": {
        "id": "vfHsM43OwS_a"
      }
    },
    {
      "cell_type": "code",
      "source": [
        "chat = model.start_chat(history=[])\n",
        "\n",
        "prompet = input('PERGUNTE ALGO ... ')\n",
        "print('\\n \\n ')\n",
        "\n",
        "while prompet != 'fim':\n",
        "\n",
        "  response = chat.send_message(prompet)\n",
        "  print(f'CHAT BOT:\\n\\n{response.text}')\n",
        "\n",
        "  print('\\n')\n",
        "\n",
        "  print('=-'*80)\n",
        "\n",
        "  print('\\n')\n",
        "\n",
        "  prompet = input('VOCÊ: ')\n",
        "\n",
        "  print('\\n')\n",
        "\n",
        "print(chat)"
      ],
      "metadata": {
        "id": "P-SrFBGywV6g"
      },
      "execution_count": null,
      "outputs": []
    }
  ]
}
